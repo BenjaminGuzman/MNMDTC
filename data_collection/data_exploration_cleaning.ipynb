{
 "cells": [
  {
   "cell_type": "code",
   "execution_count": 1,
   "metadata": {},
   "outputs": [],
   "source": [
    "#Tweets structure analysis"
   ]
  },
  {
   "cell_type": "code",
   "execution_count": 28,
   "metadata": {},
   "outputs": [],
   "source": [
    "import pandas as pd\n",
    "import pandas.io.json as pd_json\n",
    "import os\n",
    "\n",
    "pd.set_option('display.max_colwidth', -1) # display entire text"
   ]
  },
  {
   "cell_type": "code",
   "execution_count": 14,
   "metadata": {},
   "outputs": [],
   "source": [
    "FILE_NAME = \"violaciones\"\n",
    "OUTS_DIR = \"out\"\n",
    "file_path = \"{}/{}.json\".format(OUTS_DIR, FILE_NAME)\n",
    "abs_file_path = os.path.abspath(file_path)"
   ]
  },
  {
   "cell_type": "code",
   "execution_count": 20,
   "metadata": {},
   "outputs": [],
   "source": [
    "df = pd.read_json(abs_file_path, lines=True)"
   ]
  },
  {
   "cell_type": "code",
   "execution_count": 21,
   "metadata": {},
   "outputs": [
    {
     "data": {
      "text/plain": [
       "contributors                  0\n",
       "coordinates                   0\n",
       "created_at                   82\n",
       "entities                     82\n",
       "extended_entities             1\n",
       "favorite_count               82\n",
       "favorited                    82\n",
       "geo                           0\n",
       "id                           82\n",
       "id_str                       82\n",
       "in_reply_to_screen_name       8\n",
       "in_reply_to_status_id         8\n",
       "in_reply_to_status_id_str     8\n",
       "in_reply_to_user_id           8\n",
       "in_reply_to_user_id_str       8\n",
       "is_quote_status              82\n",
       "lang                         82\n",
       "metadata                     82\n",
       "place                         2\n",
       "possibly_sensitive           33\n",
       "quoted_status                 3\n",
       "quoted_status_id              4\n",
       "quoted_status_id_str          4\n",
       "retweet_count                82\n",
       "retweeted                    82\n",
       "retweeted_status             50\n",
       "source                       82\n",
       "text                         82\n",
       "truncated                    82\n",
       "user                         82\n",
       "dtype: int64"
      ]
     },
     "execution_count": 21,
     "metadata": {},
     "output_type": "execute_result"
    }
   ],
   "source": [
    "df.count()"
   ]
  },
  {
   "cell_type": "code",
   "execution_count": 30,
   "metadata": {},
   "outputs": [
    {
     "data": {
      "text/html": [
       "<div>\n",
       "<style scoped>\n",
       "    .dataframe tbody tr th:only-of-type {\n",
       "        vertical-align: middle;\n",
       "    }\n",
       "\n",
       "    .dataframe tbody tr th {\n",
       "        vertical-align: top;\n",
       "    }\n",
       "\n",
       "    .dataframe thead th {\n",
       "        text-align: right;\n",
       "    }\n",
       "</style>\n",
       "<table border=\"1\" class=\"dataframe\">\n",
       "  <thead>\n",
       "    <tr style=\"text-align: right;\">\n",
       "      <th></th>\n",
       "      <th>contributors</th>\n",
       "      <th>coordinates</th>\n",
       "      <th>created_at</th>\n",
       "      <th>entities</th>\n",
       "      <th>extended_entities</th>\n",
       "      <th>favorite_count</th>\n",
       "      <th>favorited</th>\n",
       "      <th>geo</th>\n",
       "      <th>id</th>\n",
       "      <th>id_str</th>\n",
       "      <th>...</th>\n",
       "      <th>quoted_status</th>\n",
       "      <th>quoted_status_id</th>\n",
       "      <th>quoted_status_id_str</th>\n",
       "      <th>retweet_count</th>\n",
       "      <th>retweeted</th>\n",
       "      <th>retweeted_status</th>\n",
       "      <th>source</th>\n",
       "      <th>text</th>\n",
       "      <th>truncated</th>\n",
       "      <th>user</th>\n",
       "    </tr>\n",
       "  </thead>\n",
       "  <tbody>\n",
       "    <tr>\n",
       "      <th>50</th>\n",
       "      <td>NaN</td>\n",
       "      <td>NaN</td>\n",
       "      <td>2019-06-21 15:47:10</td>\n",
       "      <td>{u'symbols': [], u'user_mentions': [{u'indices': [0, 13], u'id_str': u'876559906857508864', u'id': 876559906857508864, u'name': u'Carmen Viejo/❤', u'screen_name': u'CarmenViejo4'}, {u'indices': [14, 30], u'id_str': u'68740712', u'id': 68740712, u'name': u'Pedro Sánchez', u'screen_name': u'sanchezcastejon'}, {u'indices': [31, 46], u'id_str': u'372812630', u'id': 372812630, u'name': u'Irene Montero', u'screen_name': u'Irene_Montero_'}, {u'indices': [47, 59], u'id_str': u'344739325', u'id': 344739325, u'name': u'Ione Belarra', u'screen_name': u'ionebelarra'}, {u'indices': [60, 76], u'id_str': u'158342368', u'id': 158342368, u'name': u'Pablo Iglesias', u'screen_name': u'Pablo_Iglesias_'}], u'hashtags': [], u'urls': [{u'url': u'https://t.co/5svN2wM5KK', u'indices': [117, 140], u'expanded_url': u'https://twitter.com/i/web/status/1142096630570770433', u'display_url': u'twitter.com/i/web/status/1…'}]}</td>\n",
       "      <td>NaN</td>\n",
       "      <td>91</td>\n",
       "      <td>False</td>\n",
       "      <td>NaN</td>\n",
       "      <td>1142096630570770433</td>\n",
       "      <td>1142096630570770432</td>\n",
       "      <td>...</td>\n",
       "      <td>NaN</td>\n",
       "      <td>NaN</td>\n",
       "      <td>NaN</td>\n",
       "      <td>9</td>\n",
       "      <td>False</td>\n",
       "      <td>NaN</td>\n",
       "      <td>&lt;a href=\"http://twitter.com/download/android\" rel=\"nofollow\"&gt;Twitter for Android&lt;/a&gt;</td>\n",
       "      <td>@CarmenViejo4 @sanchezcastejon @Irene_Montero_ @ionebelarra @Pablo_Iglesias_ El entusiasmo producido por esta sente… https://t.co/5svN2wM5KK</td>\n",
       "      <td>True</td>\n",
       "      <td>{u'follow_request_sent': False, u'has_extended_profile': True, u'profile_use_background_image': False, u'id': 3319498405, u'verified': False, u'translator_type': u'none', u'entities': {u'description': {u'urls': []}}, u'profile_image_url_https': u'https://pbs.twimg.com/profile_images/1086715480855990274/hkFIeZgn_normal.jpg', u'profile_sidebar_fill_color': u'000000', u'geo_enabled': True, u'profile_text_color': u'000000', u'followers_count': 929, u'protected': False, u'location': u'MEX-USA-ESPA-FRAN-SUD', u'default_profile_image': False, u'listed_count': 3, u'lang': u'es', u'utc_offset': None, u'statuses_count': 12935, u'description': u'Yo me enamoré de sus flores pero cuando llegó el otoño no supe que hacer con sus raíces', u'friends_count': 3305, u'profile_link_color': u'1B95E0', u'profile_image_url': u'http://pbs.twimg.com/profile_images/1086715480855990274/hkFIeZgn_normal.jpg', u'notifications': False, u'profile_background_image_url_https': u'https://abs.twimg.com/images/themes/theme1/bg.png', u'profile_background_color': u'000000', u'profile_banner_url': u'https://pbs.twimg.com/profile_banners/3319498405/1558026252', u'id_str': u'3319498405', u'profile_background_image_url': u'http://abs.twimg.com/images/themes/theme1/bg.png', u'screen_name': u'miguel_tamames', u'is_translation_enabled': False, u'following': False, u'profile_background_tile': False, u'favourites_count': 12949, u'name': u'Miguel Tamames', u'url': None, u'created_at': u'Wed Aug 19 01:27:35 +0000 2015', u'contributors_enabled': False, u'time_zone': None, u'profile_sidebar_border_color': u'000000', u'default_profile': False, u'is_translator': False}</td>\n",
       "    </tr>\n",
       "    <tr>\n",
       "      <th>64</th>\n",
       "      <td>NaN</td>\n",
       "      <td>NaN</td>\n",
       "      <td>2019-06-21 14:38:04</td>\n",
       "      <td>{u'symbols': [], u'user_mentions': [], u'hashtags': [], u'urls': [{u'url': u'https://t.co/W4Uzt67YXV', u'indices': [116, 139], u'expanded_url': u'https://twitter.com/i/web/status/1142079239006633984', u'display_url': u'twitter.com/i/web/status/1…'}]}</td>\n",
       "      <td>NaN</td>\n",
       "      <td>2</td>\n",
       "      <td>False</td>\n",
       "      <td>NaN</td>\n",
       "      <td>1142079239006633984</td>\n",
       "      <td>1142079239006633984</td>\n",
       "      <td>...</td>\n",
       "      <td>NaN</td>\n",
       "      <td>NaN</td>\n",
       "      <td>NaN</td>\n",
       "      <td>1</td>\n",
       "      <td>False</td>\n",
       "      <td>NaN</td>\n",
       "      <td>&lt;a href=\"http://twitter.com/download/android\" rel=\"nofollow\"&gt;Twitter for Android&lt;/a&gt;</td>\n",
       "      <td>Coinciden abogados cuestionados sobre el tema, que la designación de Raúl Israel Hernández Cruz como titular de la… https://t.co/W4Uzt67YXV</td>\n",
       "      <td>True</td>\n",
       "      <td>{u'follow_request_sent': False, u'has_extended_profile': False, u'profile_use_background_image': True, u'id': 279357235, u'verified': False, u'translator_type': u'none', u'entities': {u'url': {u'urls': [{u'url': u'https://t.co/KwIFuH5jcC', u'indices': [0, 23], u'expanded_url': u'http://www.davidmonroynoticias.com', u'display_url': u'davidmonroynoticias.com'}]}, u'description': {u'urls': []}}, u'profile_image_url_https': u'https://pbs.twimg.com/profile_images/1141738316246577152/8AHf6vR4_normal.jpg', u'profile_sidebar_fill_color': u'000000', u'geo_enabled': True, u'profile_text_color': u'000000', u'followers_count': 12585, u'protected': False, u'location': u'Cuernavaca, Morelos', u'default_profile_image': False, u'listed_count': 101, u'lang': u'es', u'utc_offset': None, u'statuses_count': 51213, u'description': u'Corresponsal de MILENIO y Agence France Presse | Autor de la columna Apuntes de Reportero | Librepensador davidmonroynoticias@gmail.com WhatsApp: 777 272 24 74', u'friends_count': 578, u'profile_link_color': u'E81C4F', u'profile_image_url': u'http://pbs.twimg.com/profile_images/1141738316246577152/8AHf6vR4_normal.jpg', u'notifications': False, u'profile_background_image_url_https': u'https://abs.twimg.com/images/themes/theme14/bg.gif', u'profile_background_color': u'003362', u'profile_banner_url': u'https://pbs.twimg.com/profile_banners/279357235/1543187979', u'id_str': u'279357235', u'profile_background_image_url': u'http://abs.twimg.com/images/themes/theme14/bg.gif', u'screen_name': u'DavidMonroyMx', u'is_translation_enabled': False, u'following': False, u'profile_background_tile': True, u'favourites_count': 1875, u'name': u'David Monroy', u'url': u'https://t.co/KwIFuH5jcC', u'created_at': u'Sat Apr 09 03:25:24 +0000 2011', u'contributors_enabled': False, u'time_zone': None, u'profile_sidebar_border_color': u'000000', u'default_profile': False, u'is_translator': False}</td>\n",
       "    </tr>\n",
       "  </tbody>\n",
       "</table>\n",
       "<p>2 rows × 30 columns</p>\n",
       "</div>"
      ],
      "text/plain": [
       "    contributors  coordinates          created_at  \\\n",
       "50 NaN           NaN          2019-06-21 15:47:10   \n",
       "64 NaN           NaN          2019-06-21 14:38:04   \n",
       "\n",
       "                                                                                                                                                                                                                                                                                                                                                                                                                                                                                                                                                                                                                                                                                                                                                                                                                                                                                                                                      entities  \\\n",
       "50  {u'symbols': [], u'user_mentions': [{u'indices': [0, 13], u'id_str': u'876559906857508864', u'id': 876559906857508864, u'name': u'Carmen Viejo/❤', u'screen_name': u'CarmenViejo4'}, {u'indices': [14, 30], u'id_str': u'68740712', u'id': 68740712, u'name': u'Pedro Sánchez', u'screen_name': u'sanchezcastejon'}, {u'indices': [31, 46], u'id_str': u'372812630', u'id': 372812630, u'name': u'Irene Montero', u'screen_name': u'Irene_Montero_'}, {u'indices': [47, 59], u'id_str': u'344739325', u'id': 344739325, u'name': u'Ione Belarra', u'screen_name': u'ionebelarra'}, {u'indices': [60, 76], u'id_str': u'158342368', u'id': 158342368, u'name': u'Pablo Iglesias', u'screen_name': u'Pablo_Iglesias_'}], u'hashtags': [], u'urls': [{u'url': u'https://t.co/5svN2wM5KK', u'indices': [117, 140], u'expanded_url': u'https://twitter.com/i/web/status/1142096630570770433', u'display_url': u'twitter.com/i/web/status/1…'}]}   \n",
       "64  {u'symbols': [], u'user_mentions': [], u'hashtags': [], u'urls': [{u'url': u'https://t.co/W4Uzt67YXV', u'indices': [116, 139], u'expanded_url': u'https://twitter.com/i/web/status/1142079239006633984', u'display_url': u'twitter.com/i/web/status/1…'}]}                                                                                                                                                                                                                                                                                                                                                                                                                                                                                                                                                                                                                                                                                   \n",
       "\n",
       "   extended_entities  favorite_count  favorited  geo                   id  \\\n",
       "50  NaN               91              False     NaN   1142096630570770433   \n",
       "64  NaN               2               False     NaN   1142079239006633984   \n",
       "\n",
       "                 id_str  ... quoted_status  quoted_status_id  \\\n",
       "50  1142096630570770432  ...  NaN          NaN                 \n",
       "64  1142079239006633984  ...  NaN          NaN                 \n",
       "\n",
       "    quoted_status_id_str  retweet_count  retweeted  retweeted_status  \\\n",
       "50 NaN                    9              False      NaN                \n",
       "64 NaN                    1              False      NaN                \n",
       "\n",
       "                                                                                  source  \\\n",
       "50  <a href=\"http://twitter.com/download/android\" rel=\"nofollow\">Twitter for Android</a>   \n",
       "64  <a href=\"http://twitter.com/download/android\" rel=\"nofollow\">Twitter for Android</a>   \n",
       "\n",
       "                                                                                                                                            text  \\\n",
       "50  @CarmenViejo4 @sanchezcastejon @Irene_Montero_ @ionebelarra @Pablo_Iglesias_ El entusiasmo producido por esta sente… https://t.co/5svN2wM5KK   \n",
       "64  Coinciden abogados cuestionados sobre el tema, que la designación de Raúl Israel Hernández Cruz como titular de la… https://t.co/W4Uzt67YXV    \n",
       "\n",
       "   truncated  \\\n",
       "50  True       \n",
       "64  True       \n",
       "\n",
       "                                                                                                                                                                                                                                                                                                                                                                                                                                                                                                                                                                                                                                                                                                                                                                                                                                                                                                                                                                                                                                                                                                                                                                                                                                                                                                                                                                                                                                                                                                                                                                                                                                                                                                                                                                                                                                                                                                                                                                                       user  \n",
       "50  {u'follow_request_sent': False, u'has_extended_profile': True, u'profile_use_background_image': False, u'id': 3319498405, u'verified': False, u'translator_type': u'none', u'entities': {u'description': {u'urls': []}}, u'profile_image_url_https': u'https://pbs.twimg.com/profile_images/1086715480855990274/hkFIeZgn_normal.jpg', u'profile_sidebar_fill_color': u'000000', u'geo_enabled': True, u'profile_text_color': u'000000', u'followers_count': 929, u'protected': False, u'location': u'MEX-USA-ESPA-FRAN-SUD', u'default_profile_image': False, u'listed_count': 3, u'lang': u'es', u'utc_offset': None, u'statuses_count': 12935, u'description': u'Yo me enamoré de sus flores pero cuando llegó el otoño no supe que hacer con sus raíces', u'friends_count': 3305, u'profile_link_color': u'1B95E0', u'profile_image_url': u'http://pbs.twimg.com/profile_images/1086715480855990274/hkFIeZgn_normal.jpg', u'notifications': False, u'profile_background_image_url_https': u'https://abs.twimg.com/images/themes/theme1/bg.png', u'profile_background_color': u'000000', u'profile_banner_url': u'https://pbs.twimg.com/profile_banners/3319498405/1558026252', u'id_str': u'3319498405', u'profile_background_image_url': u'http://abs.twimg.com/images/themes/theme1/bg.png', u'screen_name': u'miguel_tamames', u'is_translation_enabled': False, u'following': False, u'profile_background_tile': False, u'favourites_count': 12949, u'name': u'Miguel Tamames', u'url': None, u'created_at': u'Wed Aug 19 01:27:35 +0000 2015', u'contributors_enabled': False, u'time_zone': None, u'profile_sidebar_border_color': u'000000', u'default_profile': False, u'is_translator': False}                                                                                                                                                                                                                                                                               \n",
       "64  {u'follow_request_sent': False, u'has_extended_profile': False, u'profile_use_background_image': True, u'id': 279357235, u'verified': False, u'translator_type': u'none', u'entities': {u'url': {u'urls': [{u'url': u'https://t.co/KwIFuH5jcC', u'indices': [0, 23], u'expanded_url': u'http://www.davidmonroynoticias.com', u'display_url': u'davidmonroynoticias.com'}]}, u'description': {u'urls': []}}, u'profile_image_url_https': u'https://pbs.twimg.com/profile_images/1141738316246577152/8AHf6vR4_normal.jpg', u'profile_sidebar_fill_color': u'000000', u'geo_enabled': True, u'profile_text_color': u'000000', u'followers_count': 12585, u'protected': False, u'location': u'Cuernavaca, Morelos', u'default_profile_image': False, u'listed_count': 101, u'lang': u'es', u'utc_offset': None, u'statuses_count': 51213, u'description': u'Corresponsal de MILENIO y Agence France Presse | Autor de la columna Apuntes de Reportero | Librepensador davidmonroynoticias@gmail.com WhatsApp: 777 272 24 74', u'friends_count': 578, u'profile_link_color': u'E81C4F', u'profile_image_url': u'http://pbs.twimg.com/profile_images/1141738316246577152/8AHf6vR4_normal.jpg', u'notifications': False, u'profile_background_image_url_https': u'https://abs.twimg.com/images/themes/theme14/bg.gif', u'profile_background_color': u'003362', u'profile_banner_url': u'https://pbs.twimg.com/profile_banners/279357235/1543187979', u'id_str': u'279357235', u'profile_background_image_url': u'http://abs.twimg.com/images/themes/theme14/bg.gif', u'screen_name': u'DavidMonroyMx', u'is_translation_enabled': False, u'following': False, u'profile_background_tile': True, u'favourites_count': 1875, u'name': u'David Monroy', u'url': u'https://t.co/KwIFuH5jcC', u'created_at': u'Sat Apr 09 03:25:24 +0000 2011', u'contributors_enabled': False, u'time_zone': None, u'profile_sidebar_border_color': u'000000', u'default_profile': False, u'is_translator': False}  \n",
       "\n",
       "[2 rows x 30 columns]"
      ]
     },
     "execution_count": 30,
     "metadata": {},
     "output_type": "execute_result"
    }
   ],
   "source": [
    "df[df[\"place\"].notnull()]"
   ]
  },
  {
   "cell_type": "code",
   "execution_count": 32,
   "metadata": {},
   "outputs": [
    {
     "data": {
      "text/plain": [
       "2"
      ]
     },
     "execution_count": 32,
     "metadata": {},
     "output_type": "execute_result"
    }
   ],
   "source": [
    "df.count()[\"place\"]"
   ]
  }
 ],
 "metadata": {
  "kernelspec": {
   "display_name": "Python 3",
   "language": "python",
   "name": "python3"
  },
  "language_info": {
   "codemirror_mode": {
    "name": "ipython",
    "version": 2
   },
   "file_extension": ".py",
   "mimetype": "text/x-python",
   "name": "python",
   "nbconvert_exporter": "python",
   "pygments_lexer": "ipython2",
   "version": "2.7.13"
  }
 },
 "nbformat": 4,
 "nbformat_minor": 2
}
